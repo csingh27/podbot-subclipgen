{
 "cells": [
  {
   "cell_type": "code",
   "execution_count": 1,
   "id": "355781c3-ee41-4cd3-a49b-9cf33a5b9d8e",
   "metadata": {},
   "outputs": [],
   "source": [
    "#This crops and animates videos for traditional YouTube 1920x1080"
   ]
  },
  {
   "cell_type": "code",
   "execution_count": 2,
   "id": "153cb8b9-c829-4fe8-bec8-3b883dba3a13",
   "metadata": {},
   "outputs": [],
   "source": [
    "from moviepy.audio.fx.all import *\n",
    "from moviepy.editor import *\n",
    "from moviepy.video.fx.all import *\n",
    "\n",
    "from skimage.filters import gaussian"
   ]
  },
  {
   "cell_type": "code",
   "execution_count": 3,
   "id": "e7f84c74-b915-4b62-94fc-15f4c9aef509",
   "metadata": {},
   "outputs": [],
   "source": [
    "#Defining the video file path\n",
    "video_file_path = '/home/rohit/Videos/sasha_clips/gi_e1.mp4'"
   ]
  },
  {
   "cell_type": "code",
   "execution_count": 4,
   "id": "a3649409-a655-47b4-b081-e5570fc662ae",
   "metadata": {},
   "outputs": [],
   "source": [
    "#Defining the starting ane end clips\n",
    "t_sub_start = (0, 0, 26.500)\n",
    "t_sub_end = (0, 11, 22.000)"
   ]
  },
  {
   "cell_type": "code",
   "execution_count": 5,
   "id": "c3d83520-1831-4590-a742-d30893d22e76",
   "metadata": {
    "scrolled": true,
    "tags": []
   },
   "outputs": [],
   "source": [
    "#Extracting original subclip\n",
    "main_clip_original = VideoFileClip(video_file_path).subclip(t_sub_start, t_sub_end)\n",
    "#main_clip_original.write_videofile('/home/rohit/Videos/sasha_clips/test.mp4', logger=None)"
   ]
  },
  {
   "cell_type": "code",
   "execution_count": 6,
   "id": "50780735-957d-4d33-b691-a1705856c465",
   "metadata": {},
   "outputs": [],
   "source": [
    "#Adding logo and instahandle\n",
    "logo = (ImageClip(\"/home/rohit/Videos/sasha_clips/logos/logo_symbol_only/symbol3.png\")\n",
    "       .set_duration(main_clip_original.duration)\n",
    "       .set_position((1500, -40))\n",
    "       .resize(0.25)\n",
    "       .crossfadeout(0.3))\n",
    "\n",
    "#Original\n",
    "#set_position((-35, -40))\n",
    "\n",
    "handle = (TextClip('SASHA COBRA', font='Montserrat-SemiBold', fontsize=25, color='white', \n",
    "                   align='center', kerning=5)\n",
    "          .set_position((1660, 52))\n",
    "          .set_duration(main_clip_original.duration)\n",
    "          .crossfadeout(0.3))\n",
    "\n",
    "#Original\n",
    "#set_position((125, -40))"
   ]
  },
  {
   "cell_type": "code",
   "execution_count": 7,
   "id": "d4bd1a66-31de-49d3-8bc7-9bed07930155",
   "metadata": {},
   "outputs": [],
   "source": [
    "main_clip_logo = CompositeVideoClip([main_clip_original, logo, handle])\n",
    "#main_clip_logo.ipython_display(width=640, t=5)\n",
    "#main_clip_logo.save_frame('/home/rohit/Downloads/logo_1920x1080_test.png', t=5)"
   ]
  },
  {
   "cell_type": "code",
   "execution_count": 8,
   "id": "d39120e6-275f-405e-9617-18f592bd942b",
   "metadata": {},
   "outputs": [],
   "source": [
    "#Defining a function to blur a frame\n",
    "def blur(image):\n",
    "    \n",
    "    \"\"\"\n",
    "    Returns a blurred image using gaussian filter\n",
    "    with radius\n",
    "    \"\"\"\n",
    "    \n",
    "    return gaussian(image.astype(float), sigma=7)"
   ]
  },
  {
   "cell_type": "code",
   "execution_count": 9,
   "id": "1ce89765-5fee-4e2d-8fd4-fc2d3081442d",
   "metadata": {},
   "outputs": [],
   "source": [
    "#Defining a function to generate timestamps for subclips\n",
    "#Takes into account minute and seconds\n",
    "def timestamp_gen(start, increment):\n",
    "    \"\"\"\n",
    "    start - start time tuple (hours, min, seconds)\n",
    "    increment - in seconds\n",
    "    \"\"\"\n",
    "    \n",
    "    #Setting stop tuple to be same as start\n",
    "    stop = start\n",
    "    \n",
    "    #Converting to a list to increment as tuple is immutable\n",
    "    temp_list = list(stop)\n",
    "    \n",
    "    #Adding length of post clip animation duration to the end of the main clip\n",
    "    new_min = temp_list[2] + increment\n",
    "    \n",
    "    #Updating the list based on whether the incremented minute\n",
    "    #is greater than or less than 60min as the hour has to be \n",
    "    #accounted for.\n",
    "    if new_min < 60:\n",
    "        temp_list[2] = new_min\n",
    "    elif new_min > 60:\n",
    "        temp_list[1] += 1\n",
    "        temp_list[2] = new_min-60\n",
    "        \n",
    "    #Converting list back to tuple\n",
    "    stop = tuple(temp_list)\n",
    "    \n",
    "    return stop"
   ]
  },
  {
   "cell_type": "code",
   "execution_count": 10,
   "id": "fb3f136a-c12d-4463-9a0c-6cc612362102",
   "metadata": {},
   "outputs": [],
   "source": [
    "#Adding post clip animation\n",
    "def add_post_clip_ani(main_clip_end_time):\n",
    "    \n",
    "    #Defining how long we want the post clip animation to be\n",
    "    #This value comes from correctly cutting the music at the \n",
    "    #beginning of the original file.\n",
    "    post_clip_duration = 9.51 #seconds\n",
    "    \n",
    "    #Computing time steps for the complete clip\n",
    "    post_clip_start = main_clip_end_time\n",
    "    post_clip_end = timestamp_gen(post_clip_start, post_clip_duration)\n",
    "    \n",
    "    #Extracting the subclip\n",
    "    post_clip = VideoFileClip('/home/rohit/Videos/sasha_clips/gi_e1.mp4').subclip(post_clip_start, post_clip_end)\n",
    "    \n",
    "    #Muting audio in post clip\n",
    "    post_clip_mute = post_clip.volumex(0)\n",
    "    \n",
    "    #Defining the subclip durations of the post clip\n",
    "    #We have 4 subclips based on the \"eh\" sound in the music\n",
    "    \n",
    "    #Defining the timestamps in a dictionary\n",
    "    pc_t = {}\n",
    "    \n",
    "    pc_t['1_start'] = (0, 0, 0.0)\n",
    "    pc_t['1_end'] = (0, 0, 1.111)\n",
    "    pc_t['2_start'] = pc_t['1_end']\n",
    "    pc_t['2_end'] = (0, 0, 3.544)\n",
    "    pc_t['3_start'] = pc_t['2_end']\n",
    "    pc_t['3_end'] = (0, 0, 6.040)\n",
    "    pc_t['4_start'] = pc_t['3_end']\n",
    "    pc_t['4_end'] = (0, 0, 8.47)\n",
    "    pc_t['5_start'] = pc_t['4_end']\n",
    "    pc_t['5_end'] = (0, 0, post_clip.duration)\n",
    "    \n",
    "    #Extracting the subclips corresponding to the subclip stamps\n",
    "    #also applying blur after extraction\n",
    "    #storing in a dictionary\n",
    "    pc = {}\n",
    "    for i in range(1, 6):\n",
    "        pc[i] = post_clip_mute.subclip(pc_t[str(i)+'_start'], pc_t[str(i)+'_end']) \n",
    "        pc[i] = pc[i].fl_image(blur)\n",
    "    \n",
    "    #Defining text clips\n",
    "    getting_intimate_1 = (TextClip('GETTING INTIMATE', font='Montserrat-SemiBold', fontsize=70, color='white',\n",
    "                                align='center', kerning=10)\n",
    "                          .set_position('center', 'center')\n",
    "                          .set_duration(pc[1].duration)\n",
    "                          .crossfadein(0.3))\n",
    "    \n",
    "    getting_intimate_2 = (TextClip('GETTING INTIMATE', font='Montserrat-SemiBold', fontsize=70, color='white',\n",
    "                                align='center', kerning=10)\n",
    "                          .set_position('center', 'center')\n",
    "                          .set_duration(pc[2].duration)\n",
    "                          .crossfadeout(0.3))\n",
    "    \n",
    "    with_sc = (TextClip('WITH SASHA COBRA', font='Montserrat-SemiBold', fontsize=25, color='white', align='center')\n",
    "                        .set_position((0.577, 0.54), relative=True)\n",
    "                        .set_duration(pc[2].duration)\n",
    "                        .crossfadein(0.3)\n",
    "                        .crossfadeout(0.3))\n",
    "    \n",
    "    watch_fv = (TextClip('Watch full video series', font='Montserrat-SemiBold', \n",
    "                        fontsize=35, color='white', align='center')\n",
    "                        .set_position(('center', 'center'))\n",
    "                        .set_duration(pc[3].duration)\n",
    "                        .crossfadein(0.3)\n",
    "                        .crossfadeout(0.3))\n",
    "    \n",
    "    at_sc = (TextClip('at sashacobra.com', font='Montserrat-SemiBold',\n",
    "                      fontsize=35, color='white', align='center')\n",
    "                      .set_position(('center', 0.53), relative=True)\n",
    "                      .set_duration(pc[3].duration)\n",
    "                      .crossfadein(0.3)\n",
    "                      .crossfadeout(0.3))\n",
    "    \n",
    "    #Defining final logo image clip\n",
    "    final_logo_4 = (ImageClip(\"/home/rohit/Videos/sasha_clips/logos/logo_name/logo_name_21.png\")\n",
    "                    .set_duration(pc[4].duration)\n",
    "                    .set_pos((\"center\", \"center\"))\n",
    "                    .resize(0.7)\n",
    "                    .crossfadein(0.3))\n",
    "    \n",
    "    final_logo_5 = (ImageClip(\"/home/rohit/Videos/sasha_clips/logos/logo_name/logo_name_21.png\")\n",
    "                    .set_duration(pc[5].duration)\n",
    "                    .set_pos((\"center\", \"center\"))\n",
    "                    .resize(0.7)\n",
    "                    .crossfadeout(pc[5].duration))\n",
    "    \n",
    "    #Generating composite video clips\n",
    "    comp1 = CompositeVideoClip([pc[1], getting_intimate_1])\n",
    "    comp2 = CompositeVideoClip([pc[2], getting_intimate_2, with_sc])\n",
    "    comp3 = CompositeVideoClip([pc[3], watch_fv, at_sc])\n",
    "    comp4 = CompositeVideoClip([pc[4], final_logo_4])\n",
    "    comp5 = CompositeVideoClip([pc[5], final_logo_5])\n",
    "    \n",
    "    post_clip_with_text = concatenate_videoclips([comp1, comp2, comp3, comp4, comp5])\n",
    "    \n",
    "    #Setting post_clip audio\n",
    "\n",
    "    #Importing audio file\n",
    "    post_clip_audio = AudioFileClip('/home/rohit/Videos/sasha_clips/temp/intro_audio.wav')\n",
    "    \n",
    "    #Setting audio\n",
    "    post_clip_final = post_clip_with_text.set_audio(post_clip_audio)\n",
    "    \n",
    "    #Audio fade in and out effects\n",
    "    post_clip_final = post_clip_final.audio_fadein(0.3)\n",
    "    post_clip_final = post_clip_final.audio_fadeout(pc[5].duration)\n",
    "    \n",
    "    #post_clip_final.write_videofile('/home/rohit/Videos/sasha_clips/post_clip_ani_vertical.mp4', logger=None)\n",
    "    \n",
    "    return post_clip_final"
   ]
  },
  {
   "cell_type": "code",
   "execution_count": 11,
   "id": "2ae72061-19a1-4e90-b471-90ee82b92eb6",
   "metadata": {},
   "outputs": [],
   "source": [
    "post_final_clip = add_post_clip_ani(t_sub_end)"
   ]
  },
  {
   "cell_type": "code",
   "execution_count": 12,
   "id": "627dd54c-23fe-40bd-b582-e880195ef6be",
   "metadata": {},
   "outputs": [],
   "source": [
    "#post_final_clip.write_videofile('/home/rohit/Videos/sasha_clips/post_clip_ani.mp4')\n",
    "#post_final_clip.ipython_display(width=640, t=3)"
   ]
  },
  {
   "cell_type": "code",
   "execution_count": 13,
   "id": "6df58b08-d7d7-4bbe-a1d3-92fa5eb97cae",
   "metadata": {},
   "outputs": [],
   "source": [
    "final_export = concatenate_videoclips([main_clip_logo, post_final_clip], method='chain')"
   ]
  },
  {
   "cell_type": "code",
   "execution_count": 14,
   "id": "c25a5fd7-63c3-43fb-9b65-7871e20308e8",
   "metadata": {
    "scrolled": true,
    "tags": []
   },
   "outputs": [
    {
     "name": "stderr",
     "output_type": "stream",
     "text": [
      "chunk:   0%|          | 0/14664 [00:00<?, ?it/s, now=None]"
     ]
    },
    {
     "name": "stdout",
     "output_type": "stream",
     "text": [
      "Moviepy - Building video /home/rohit/Videos/sasha_clips/sashas_opinion_love.mp4.\n",
      "MoviePy - Writing audio in sashas_opinion_loveTEMP_MPY_wvf_snd.mp3\n"
     ]
    },
    {
     "name": "stderr",
     "output_type": "stream",
     "text": [
      "t:   0%|          | 3/15945 [00:00<13:32, 19.63it/s, now=None]         "
     ]
    },
    {
     "name": "stdout",
     "output_type": "stream",
     "text": [
      "MoviePy - Done.\n",
      "Moviepy - Writing video /home/rohit/Videos/sasha_clips/sashas_opinion_love.mp4\n",
      "\n"
     ]
    },
    {
     "name": "stderr",
     "output_type": "stream",
     "text": [
      "                                                                   \r"
     ]
    },
    {
     "name": "stdout",
     "output_type": "stream",
     "text": [
      "Moviepy - Done !\n",
      "Moviepy - video ready /home/rohit/Videos/sasha_clips/sashas_opinion_love.mp4\n"
     ]
    }
   ],
   "source": [
    "#Exporting\n",
    "export_path = '/home/rohit/Videos/sasha_clips/sashas_opinion_love.mp4'\n",
    "final_export.write_videofile(export_path)"
   ]
  },
  {
   "cell_type": "code",
   "execution_count": null,
   "id": "148c2a38-1e90-49ea-ae24-6c7d69508d14",
   "metadata": {},
   "outputs": [],
   "source": []
  }
 ],
 "metadata": {
  "kernelspec": {
   "display_name": "Python 3",
   "language": "python",
   "name": "python3"
  },
  "language_info": {
   "codemirror_mode": {
    "name": "ipython",
    "version": 3
   },
   "file_extension": ".py",
   "mimetype": "text/x-python",
   "name": "python",
   "nbconvert_exporter": "python",
   "pygments_lexer": "ipython3",
   "version": "3.8.10"
  }
 },
 "nbformat": 4,
 "nbformat_minor": 5
}
