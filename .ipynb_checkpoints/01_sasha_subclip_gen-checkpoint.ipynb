{
 "cells": [
  {
   "cell_type": "code",
   "execution_count": 2,
   "id": "01f73921",
   "metadata": {},
   "outputs": [
    {
     "ename": "ModuleNotFoundError",
     "evalue": "No module named 'moviepy'",
     "output_type": "error",
     "traceback": [
      "\u001b[0;31m---------------------------------------------------------------------------\u001b[0m",
      "\u001b[0;31mModuleNotFoundError\u001b[0m                       Traceback (most recent call last)",
      "Input \u001b[0;32mIn [2]\u001b[0m, in \u001b[0;36m<cell line: 1>\u001b[0;34m()\u001b[0m\n\u001b[0;32m----> 1\u001b[0m \u001b[38;5;28;01mfrom\u001b[39;00m \u001b[38;5;21;01mmoviepy\u001b[39;00m\u001b[38;5;21;01m.\u001b[39;00m\u001b[38;5;21;01maudio\u001b[39;00m\u001b[38;5;21;01m.\u001b[39;00m\u001b[38;5;21;01mfx\u001b[39;00m\u001b[38;5;21;01m.\u001b[39;00m\u001b[38;5;21;01mall\u001b[39;00m \u001b[38;5;28;01mimport\u001b[39;00m \u001b[38;5;241m*\u001b[39m\n\u001b[1;32m      2\u001b[0m \u001b[38;5;28;01mfrom\u001b[39;00m \u001b[38;5;21;01mmoviepy\u001b[39;00m\u001b[38;5;21;01m.\u001b[39;00m\u001b[38;5;21;01meditor\u001b[39;00m \u001b[38;5;28;01mimport\u001b[39;00m \u001b[38;5;241m*\u001b[39m\n\u001b[1;32m      3\u001b[0m \u001b[38;5;28;01mfrom\u001b[39;00m \u001b[38;5;21;01mmoviepy\u001b[39;00m\u001b[38;5;21;01m.\u001b[39;00m\u001b[38;5;21;01mvideo\u001b[39;00m\u001b[38;5;21;01m.\u001b[39;00m\u001b[38;5;21;01mfx\u001b[39;00m\u001b[38;5;21;01m.\u001b[39;00m\u001b[38;5;21;01mall\u001b[39;00m \u001b[38;5;28;01mimport\u001b[39;00m \u001b[38;5;241m*\u001b[39m\n",
      "\u001b[0;31mModuleNotFoundError\u001b[0m: No module named 'moviepy'"
     ]
    }
   ],
   "source": [
    "from moviepy.audio.fx.all import *\n",
    "from moviepy.editor import *\n",
    "from moviepy.video.fx.all import *\n",
    "from moviepy.video.tools.subtitles import SubtitlesClip\n",
    "\n",
    "from skimage.filters import gaussian"
   ]
  },
  {
   "cell_type": "code",
   "execution_count": 2,
   "id": "067f920f",
   "metadata": {},
   "outputs": [],
   "source": [
    "video_file_path = '/home/rohit/Videos/sasha_clips/gi_e1.mp4' "
   ]
  },
  {
   "cell_type": "code",
   "execution_count": 3,
   "id": "67f8f216",
   "metadata": {},
   "outputs": [],
   "source": [
    "t_sub_start = (0,3,20.000)\n",
    "t_sub_end = (0,4,53.500)"
   ]
  },
  {
   "cell_type": "code",
   "execution_count": 4,
   "id": "598f5a54",
   "metadata": {},
   "outputs": [],
   "source": [
    "main_clip_original = VideoFileClip(video_file_path).subclip(t_sub_start, t_sub_end)"
   ]
  },
  {
   "cell_type": "code",
   "execution_count": 5,
   "id": "ad590493",
   "metadata": {},
   "outputs": [],
   "source": [
    "w, h = main_clip_original.size"
   ]
  },
  {
   "cell_type": "code",
   "execution_count": 6,
   "id": "59476535",
   "metadata": {},
   "outputs": [],
   "source": [
    "main_clip_crop = crop(main_clip_original, width=h, height=h, x_center=0.5*w, y_center=0.5*h)\n",
    "#main_clip_crop = crop(main_clip_original, width=607, height=1080, x_center=0.5*w, y_center=0.5*h)"
   ]
  },
  {
   "cell_type": "code",
   "execution_count": 7,
   "id": "536b3422",
   "metadata": {},
   "outputs": [],
   "source": [
    "#main_clip_crop.ipython_display(width=640, maxduration=180)\n",
    "#main_clip_crop.ipython_display(t=0)\n",
    "#main_clip_crop.write_videofile('/home/rohit/Videos/sasha_clips/test.mp4', logger=None)"
   ]
  },
  {
   "cell_type": "markdown",
   "id": "bf76f81b",
   "metadata": {},
   "source": [
    "### Adding logo and insta handle"
   ]
  },
  {
   "cell_type": "code",
   "execution_count": 8,
   "id": "770e9afc-19dc-4e43-aad4-70ab034ab21f",
   "metadata": {},
   "outputs": [],
   "source": [
    "##Adding logo and instahandle to top right corner\n",
    "#logo = (ImageClip(\"/home/rohit/Videos/sasha_clips/logos/logo_symbol_only/symbol1.png\")\n",
    "#       .set_duration(main_clip_original.duration)\n",
    "#       .set_position((640, -40))\n",
    "#       .resize(0.25)\n",
    "#       .crossfadeout(0.3))\n",
    "#\n",
    "#handle = (TextClip('SASHA COBRA', font='Montserrat-SemiBold', fontsize=25, color='white', \n",
    "#                   align='center', kerning=5)\n",
    "#          .set_position((800, 52))\n",
    "#          .set_duration(main_clip_original.duration)\n",
    "#          .crossfadeout(0.3))"
   ]
  },
  {
   "cell_type": "code",
   "execution_count": 9,
   "id": "956339b4",
   "metadata": {},
   "outputs": [],
   "source": [
    "#Logo and handle on top left corner\n",
    "logo = (ImageClip(\"/home/rohit/Videos/sasha_clips/logos/logo_symbol_only/symbol6.png\")\n",
    "       .set_duration(main_clip_crop.duration)\n",
    "       .set_position((-35, -40))\n",
    "       .resize(0.25)\n",
    "       .crossfadeout(0.3))\n",
    "\n",
    "handle = (TextClip('SASHA COBRA', font='Montserrat-SemiBold', fontsize=25, color='#423634', \n",
    "                   align='center', kerning=5)\n",
    "          .set_position((125, 52))\n",
    "          .set_duration(main_clip_crop.duration)\n",
    "          .crossfadeout(0.3))"
   ]
  },
  {
   "cell_type": "code",
   "execution_count": 10,
   "id": "48c6db1f",
   "metadata": {},
   "outputs": [],
   "source": [
    "main_clip_logo = CompositeVideoClip([main_clip_crop, logo, handle])"
   ]
  },
  {
   "cell_type": "code",
   "execution_count": 11,
   "id": "b2d64bfa",
   "metadata": {},
   "outputs": [],
   "source": [
    "#main_clip_logo.ipython_display(width=640, t=0)\n",
    "#main_clip_logo.save_frame('/home/rohit/Downloads/logo_text_montserrat_medium_caps.png')"
   ]
  },
  {
   "cell_type": "code",
   "execution_count": 12,
   "id": "d99e154e",
   "metadata": {},
   "outputs": [],
   "source": [
    "#logo = (ImageClip(\"/home/rohit/Videos/sasha_clips/logos/logo_name/logo_name_9.png\")\n",
    "#       .set_duration(main_clip_crop.duration)\n",
    "#       .set_position((-30, -40))\n",
    "#       .resize(0.25)\n",
    "#       .crossfadeout(1.5))\n",
    "#\n",
    "#main_clip_logo = CompositeVideoClip([main_clip_crop, logo])"
   ]
  },
  {
   "cell_type": "markdown",
   "id": "eeb50e26",
   "metadata": {},
   "source": [
    "### Adding subtitles the manual way"
   ]
  },
  {
   "cell_type": "code",
   "execution_count": 13,
   "id": "8d98625e",
   "metadata": {},
   "outputs": [],
   "source": [
    "#Defining file path\n",
    "subtitle_file = '/home/rohit/Videos/sasha_clips/09_love_programming.srt'"
   ]
  },
  {
   "cell_type": "code",
   "execution_count": 14,
   "id": "67eb87e6",
   "metadata": {},
   "outputs": [],
   "source": [
    "#Defining a function that can take a string of srt timestamp\n",
    "#and convert it to format that MoviePy needs\n",
    "def timestamp_convert(srt_time):\n",
    "    \n",
    "    '''\n",
    "    Expects a string in the form 'hours:min:seconds,milliseconds'\n",
    "    Returns (hours, minutes, seconds.milliseconds)\n",
    "    '''\n",
    "    \n",
    "    #Splitting on the :\n",
    "    srt_time = srt_time.split(':')\n",
    "    \n",
    "    #Extracting hour, minute and seconds\n",
    "    hour = int(srt_time[0])\n",
    "    minute = int(srt_time[1])\n",
    "    seconds = float(srt_time[2].replace(',', '.'))\n",
    "    \n",
    "    #Converting to tuple\n",
    "    moviepy_time = (hour, minute, seconds)\n",
    "    \n",
    "    return moviepy_time"
   ]
  },
  {
   "cell_type": "code",
   "execution_count": 15,
   "id": "bdbfda6f",
   "metadata": {},
   "outputs": [],
   "source": [
    "#Extracting contents of srt file into a list\n",
    "with open(subtitle_file) as f:\n",
    "    sub_content = f.readlines()\n",
    "    \n",
    "#print(sub_content)\n",
    "\n",
    "#Defining a counter to keep track of the max number of \n",
    "#subtitle sections\n",
    "max_subtitle_section = 0\n",
    "\n",
    "#Defining a dictionary to keep track of subtitle content\n",
    "#This is a dicionary that stores another dictionary\n",
    "subtitle = {}\n",
    "\n",
    "#Remove the \\n at the end of each line\n",
    "sub_content = [line.rstrip() for line in sub_content]\n",
    "    \n",
    "for i in range(len(sub_content)):\n",
    "    \n",
    "    #Check if string is number\n",
    "    if sub_content[i].isdigit():\n",
    "        \n",
    "        #Create a temp dictionary\n",
    "        temp = {}\n",
    "        \n",
    "        #Extract the timestamps\n",
    "        timestamps = sub_content[i+1]\n",
    "        \n",
    "        #Split the timestamps by space\n",
    "        timestamps = timestamps.split(' ')\n",
    "        \n",
    "        #Extracting the start and end time for the subtitle\n",
    "        temp['start'] = timestamp_convert(timestamps[0])\n",
    "        temp['end'] = timestamp_convert(timestamps[2])\n",
    "        \n",
    "        #Extract the subtitle text\n",
    "        temp['text'] = sub_content[i+2]\n",
    "        \n",
    "        #Adding the temp dictionary to the subtitle dictionary\n",
    "        subtitle[int(sub_content[i])] = temp\n",
    "        "
   ]
  },
  {
   "cell_type": "code",
   "execution_count": 16,
   "id": "e0a403d0",
   "metadata": {},
   "outputs": [],
   "source": [
    "#Defining list for concatenation\n",
    "clips_for_concatenation = []\n",
    "\n",
    "#Looping through each subtitle section\n",
    "for i in subtitle.keys():\n",
    "    \n",
    "    #Extracting the clip that is in between two subtitles\n",
    "    #and appending to the list for concatenation\n",
    "    if i != len(subtitle.keys()):\n",
    "        \n",
    "        #Extracting the clip\n",
    "        subtitle[i]['clip'] = main_clip_logo.subclip(subtitle[i]['start'], subtitle[i]['end'])\n",
    "    \n",
    "        #Saving the duration\n",
    "        subtitle[i]['duration'] = subtitle[i]['clip'].duration\n",
    "    \n",
    "        #Generating the text clip\n",
    "        subtitle[i]['text_clip'] = TextClip(subtitle[i]['text'], font='Ubuntu-Bold', fontsize=32, color='#423634', \n",
    "                                   size=(1000, 110), method='caption', bg_color='#b6b4b2', \n",
    "                                   align='center').set_opacity(0.75)\n",
    "        #071a13 - Original colour\n",
    "    \n",
    "        #Adding the text clip to the clip\n",
    "        subtitle[i]['clip'] = CompositeVideoClip([subtitle[i]['clip'], subtitle[i]['text_clip']\n",
    "                                                  .set_pos(('center', 960))]).set_duration(subtitle[i]['duration'])\n",
    "    \n",
    "        #Adding a transition clip for the bit in between 2 subtitles\n",
    "        subtitle[i]['transition'] = main_clip_logo.subclip(subtitle[i]['end'], subtitle[i+1]['start'])\n",
    "        \n",
    "        #Storing clips for concatenation\n",
    "        clips_for_concatenation.append(subtitle[i]['clip'])\n",
    "        clips_for_concatenation.append(subtitle[i]['transition'])\n",
    "        \n",
    "    #For the last clip, ensuring that it goes till the end\n",
    "    else:\n",
    "        \n",
    "        #Extraction of clip\n",
    "        subtitle[i]['clip'] = main_clip_logo.subclip(subtitle[i]['start'], main_clip_logo.duration)\n",
    "        \n",
    "        #Saving the duration\n",
    "        subtitle[i]['duration'] = subtitle[i]['clip'].duration\n",
    "    \n",
    "        #Generating the text clip\n",
    "        subtitle[i]['text_clip'] = TextClip(subtitle[i]['text'], font='Ubuntu-Bold', fontsize=32, color='#423634', \n",
    "                                   size=(1000, 110), method='caption', bg_color='#b6b4b2', \n",
    "                                   align='center').set_opacity(0.75)\n",
    "        #071a13 - Original colour\n",
    "        \n",
    "        #Adding the text clip the clip\n",
    "        subtitle[i]['clip'] = subtitle[i]['clip'] = CompositeVideoClip([subtitle[i]['clip'], subtitle[i]['text_clip']\n",
    "                                                  .set_pos(('center', 960))]).set_duration(subtitle[i]['duration'])\n",
    "    \n",
    "        #Storing clip for concatenation\n",
    "        clips_for_concatenation.append(subtitle[i]['clip'])"
   ]
  },
  {
   "cell_type": "code",
   "execution_count": 17,
   "id": "48d28c4b",
   "metadata": {},
   "outputs": [],
   "source": [
    "#Generating the main clip by concatenating all subclips\n",
    "main_clip = concatenate_videoclips(clips_for_concatenation, method='chain')"
   ]
  },
  {
   "cell_type": "code",
   "execution_count": 18,
   "id": "a53ed623",
   "metadata": {},
   "outputs": [],
   "source": [
    "#main_clip.ipython_display(width=640, maxduration=180)\n",
    "#main_clip.write_videofile('/home/rohit/Videos/sasha_clips/test.mp4', logger=None)"
   ]
  },
  {
   "cell_type": "markdown",
   "id": "5407d354",
   "metadata": {},
   "source": [
    "### Adding subtitles using Subtitles Clip\n",
    "\n",
    "subtitle background - #b6b4b2\n",
    "\n",
    "subtitle font color - #071a13 \n",
    "alternative font colors taken from InShot Pixel Color Picker - #394941, #32413e, #323d3a, #2c3531 \n",
    "\n",
    "subtitle opacity - 80%"
   ]
  },
  {
   "cell_type": "code",
   "execution_count": 19,
   "id": "b274efef",
   "metadata": {},
   "outputs": [],
   "source": [
    "#generator = lambda txt: TextClip(txt, font='Ubuntu-Bold', fontsize=32, color='#071a13',\n",
    "#                                 size=(1000, 110), method='caption', bg_color='#b6b4b2',\n",
    "#                                 align='center').set_opacity(0.75)\n",
    "#subtitles = SubtitlesClip(\"/home/rohit/Videos/sasha_clips/03_women_feedback.srt\", generator)"
   ]
  },
  {
   "cell_type": "code",
   "execution_count": 20,
   "id": "63a8a62e",
   "metadata": {},
   "outputs": [],
   "source": [
    "#main_clip = CompositeVideoClip([main_clip_logo, subtitles.set_pos(('center', 960))])"
   ]
  },
  {
   "cell_type": "code",
   "execution_count": 21,
   "id": "67963a6f",
   "metadata": {
    "tags": []
   },
   "outputs": [],
   "source": [
    "#main_clip.ipython_display(width=640, maxduration=180)\n",
    "#main_clip.ipython_display(width=640, t=25)"
   ]
  },
  {
   "cell_type": "code",
   "execution_count": 22,
   "id": "18fb9aee",
   "metadata": {},
   "outputs": [],
   "source": [
    "#main_clip.write_videofile('/home/rohit/Videos/sasha_clips/main_clip.mp4', logger=None)"
   ]
  },
  {
   "cell_type": "markdown",
   "id": "951e4ae7",
   "metadata": {},
   "source": [
    "### Post Clip Animation with Music Synced\n",
    "\n",
    "We take a portion of the main clip after the clip, mute it, blur it and then add the end texts like \"Getting Intimate with Sasha Cobra\" etc and then the final logo."
   ]
  },
  {
   "cell_type": "code",
   "execution_count": 23,
   "id": "fac81f0d",
   "metadata": {},
   "outputs": [],
   "source": [
    "#Defining how long we want the post clip animation to be\n",
    "#This value comes from correctly cutting the music at the \n",
    "#beginning of the original file.\n",
    "post_clip_duration = 9.51 #seconds"
   ]
  },
  {
   "cell_type": "code",
   "execution_count": 24,
   "id": "a806308e",
   "metadata": {},
   "outputs": [],
   "source": [
    "#Defining a function to generate timestamps for subclips\n",
    "#Takes into account minute and seconds\n",
    "\n",
    "def timestamp_gen(start, increment):\n",
    "    \"\"\"\n",
    "    start - start time tuple (hours, min, seconds)\n",
    "    increment - in seconds\n",
    "    \"\"\"\n",
    "    \n",
    "    #Setting stop tuple to be same as start\n",
    "    stop = start\n",
    "    \n",
    "    #Converting to a list to increment as tuple is immutable\n",
    "    temp_list = list(stop)\n",
    "    \n",
    "    #Adding length of post clip animation duration to the end of the main clip\n",
    "    new_min = temp_list[2] + increment\n",
    "    \n",
    "    #Updating the list based on whether the incremented minute\n",
    "    #is greater than or less than 60min as the hour has to be \n",
    "    #accounted for.\n",
    "    if new_min < 60:\n",
    "        temp_list[2] = new_min\n",
    "    elif new_min > 60:\n",
    "        temp_list[1] += 1\n",
    "        temp_list[2] = new_min-60\n",
    "        \n",
    "    #Converting list back to tuple\n",
    "    stop = tuple(temp_list)\n",
    "    \n",
    "    return stop"
   ]
  },
  {
   "cell_type": "code",
   "execution_count": 25,
   "id": "808b7776",
   "metadata": {},
   "outputs": [],
   "source": [
    "#Defining a function to blur a frame\n",
    "def blur(image):\n",
    "    \n",
    "    \"\"\"\n",
    "    Returns a blurred image using gaussian filter\n",
    "    with radius\n",
    "    \"\"\"\n",
    "    \n",
    "    return gaussian(image.astype(float), sigma=10)"
   ]
  },
  {
   "cell_type": "code",
   "execution_count": 26,
   "id": "476e045a",
   "metadata": {},
   "outputs": [],
   "source": [
    "#Computing time steps for the complete clip\n",
    "post_clip_start = t_sub_end\n",
    "post_clip_end = timestamp_gen(post_clip_start, post_clip_duration)"
   ]
  },
  {
   "cell_type": "code",
   "execution_count": 27,
   "id": "3ed288a1",
   "metadata": {},
   "outputs": [],
   "source": [
    "#Extracting the subclip\n",
    "post_clip = VideoFileClip('/home/rohit/Videos/sasha_clips/gi_e1.mp4').subclip(post_clip_start, post_clip_end)"
   ]
  },
  {
   "cell_type": "code",
   "execution_count": 28,
   "id": "52d26611",
   "metadata": {},
   "outputs": [],
   "source": [
    "#Muting audio in post clip\n",
    "post_clip_mute = post_clip.volumex(0)"
   ]
  },
  {
   "cell_type": "code",
   "execution_count": 29,
   "id": "e8541688",
   "metadata": {},
   "outputs": [],
   "source": [
    "#Cropping to instagram size\n",
    "post_clip_crop = crop(post_clip_mute, width=h, height=h, x_center=0.5*w, y_center=0.5*h)"
   ]
  },
  {
   "cell_type": "code",
   "execution_count": 30,
   "id": "a37ca631",
   "metadata": {},
   "outputs": [],
   "source": [
    "#Defining the subclip durations of the post clip\n",
    "#We have 4 subclips based on the \"eh\" sound in the music\n",
    "\n",
    "#Defining the timestamps in a dictionary\n",
    "pc_t = {}\n",
    "\n",
    "pc_t['1_start'] = (0, 0, 0.0)\n",
    "pc_t['1_end'] = (0, 0, 1.111)\n",
    "pc_t['2_start'] = pc_t['1_end']\n",
    "pc_t['2_end'] = (0, 0, 3.544)\n",
    "pc_t['3_start'] = pc_t['2_end']\n",
    "pc_t['3_end'] = (0, 0, 6.040)\n",
    "pc_t['4_start'] = pc_t['3_end']\n",
    "pc_t['4_end'] = (0, 0, 8.47)\n",
    "pc_t['5_start'] = pc_t['4_end']\n",
    "pc_t['5_end'] = (0, 0, post_clip.duration)"
   ]
  },
  {
   "cell_type": "code",
   "execution_count": 31,
   "id": "32ec23a8",
   "metadata": {},
   "outputs": [],
   "source": [
    "#Extracting the subclips corresponding to the subclip stamps\n",
    "#also applying blur after extraction\n",
    "#storing in a dictionary\n",
    "pc = {}\n",
    "\n",
    "for i in range(1, 6):\n",
    "    pc[i] = post_clip_crop.subclip(pc_t[str(i)+'_start'], pc_t[str(i)+'_end']) \n",
    "    pc[i] = pc[i].fl_image(blur)"
   ]
  },
  {
   "cell_type": "code",
   "execution_count": 32,
   "id": "fbf24768",
   "metadata": {},
   "outputs": [],
   "source": [
    "#Defining text clips\n",
    "getting_intimate_1 = (TextClip('GETTING INTIMATE', font='Montserrat-SemiBold', fontsize=85, color='white',\n",
    "                            align='center', kerning=10)\n",
    "                      .set_position('center', 'center')\n",
    "                      .set_duration(pc[1].duration)\n",
    "                      .crossfadein(0.3))\n",
    "\n",
    "getting_intimate_2 = (TextClip('GETTING INTIMATE', font='Montserrat-SemiBold', fontsize=85, color='white',\n",
    "                            align='center', kerning=10)\n",
    "                      .set_position('center', 'center')\n",
    "                      .set_duration(pc[2].duration)\n",
    "                      .crossfadeout(0.3))\n",
    "\n",
    "with_sc = (TextClip('WITH SASHA COBRA', font='Montserrat-SemiBold', fontsize=30, color='white', align='center')\n",
    "                    .set_position((0.652, 0.55), relative=True)\n",
    "                    .set_duration(pc[2].duration)\n",
    "                    .crossfadein(0.3)\n",
    "                    .crossfadeout(0.3))\n",
    "\n",
    "watch_fv = (TextClip('Watch full video series', font='Montserrat-SemiBold', \n",
    "                    fontsize=40, color='white', align='center')\n",
    "                    .set_position(('center', 'center'))\n",
    "                    .set_duration(pc[3].duration)\n",
    "                    .crossfadein(0.3)\n",
    "                    .crossfadeout(0.3))\n",
    "\n",
    "at_sc = (TextClip('at sashacobra.com', font='Montserrat-SemiBold',\n",
    "                  fontsize=40, color='white', align='center')\n",
    "                  .set_position(('center', 0.55), relative=True)\n",
    "                  .set_duration(pc[3].duration)\n",
    "                  .crossfadein(0.3)\n",
    "                  .crossfadeout(0.3))"
   ]
  },
  {
   "cell_type": "code",
   "execution_count": 33,
   "id": "1731b1a5",
   "metadata": {},
   "outputs": [],
   "source": [
    "#Defining final logo image clip\n",
    "final_logo_4 = (ImageClip(\"/home/rohit/Videos/sasha_clips/logos/logo_name/logo_name_21.png\")\n",
    "                .set_duration(pc[4].duration)\n",
    "                .set_pos((\"center\", \"center\"))\n",
    "                .resize(0.65)\n",
    "                .crossfadein(0.3))\n",
    "\n",
    "final_logo_5 = (ImageClip(\"/home/rohit/Videos/sasha_clips/logos/logo_name/logo_name_21.png\")\n",
    "                .set_duration(pc[5].duration)\n",
    "                .set_pos((\"center\", \"center\"))\n",
    "                .resize(0.65)\n",
    "                .crossfadeout(pc[5].duration))"
   ]
  },
  {
   "cell_type": "code",
   "execution_count": 34,
   "id": "f98bf2ee",
   "metadata": {},
   "outputs": [],
   "source": [
    "#Generating composite video clips\n",
    "comp1 = CompositeVideoClip([pc[1], getting_intimate_1])\n",
    "comp2 = CompositeVideoClip([pc[2], getting_intimate_2, with_sc])\n",
    "comp3 = CompositeVideoClip([pc[3], watch_fv, at_sc])\n",
    "comp4 = CompositeVideoClip([pc[4], final_logo_4])\n",
    "comp5 = CompositeVideoClip([pc[5], final_logo_5])\n",
    "\n",
    "post_clip_with_text = concatenate_videoclips([comp1, comp2, comp3, comp4, comp5])"
   ]
  },
  {
   "cell_type": "code",
   "execution_count": 35,
   "id": "6dbad8df",
   "metadata": {},
   "outputs": [],
   "source": [
    "#Setting post_clip audio\n",
    "\n",
    "#Importing audio file\n",
    "post_clip_audio = AudioFileClip('/home/rohit/Videos/sasha_clips/audio/intro_audio.wav')\n",
    "\n",
    "#Setting audio\n",
    "post_clip_final = post_clip_with_text.set_audio(post_clip_audio)\n",
    "\n",
    "#Audio fade in and out effects\n",
    "post_clip_final = post_clip_final.audio_fadein(0.3)\n",
    "post_clip_final = post_clip_final.audio_fadeout(pc[5].duration)"
   ]
  },
  {
   "cell_type": "code",
   "execution_count": 36,
   "id": "a83be706",
   "metadata": {},
   "outputs": [],
   "source": [
    "#post_clip_final.write_videofile('/home/rohit/Videos/sasha_clips/post_clip_ani.mp4', logger=None)"
   ]
  },
  {
   "cell_type": "code",
   "execution_count": 37,
   "id": "fbfc480f",
   "metadata": {},
   "outputs": [],
   "source": [
    "final_export = concatenate_videoclips([main_clip, post_clip_final])\n",
    "#final_export.ipython_display(width=640, maxduration=180)\n",
    "final_export.write_videofile('/home/rohit/Videos/sasha_clips/09_love_programming.mp4', logger=None)"
   ]
  },
  {
   "cell_type": "markdown",
   "id": "62228209",
   "metadata": {},
   "source": [
    "### Post Clip Animation without music sync\n",
    "The goal here is to take next six seconds of the main video after the clip, blur it, mute it, put the text for Getting Intimate with Sasha Cobra and then watch the full video series on sashacobra.com and then the logo animation.  "
   ]
  },
  {
   "cell_type": "code",
   "execution_count": 38,
   "id": "4d63571f",
   "metadata": {},
   "outputs": [],
   "source": [
    "##Defining how long we want the post clip animation to be\n",
    "#post_clip_duration = 9.51 #seconds\n",
    "\n",
    "##Defining number of subclips\n",
    "#num_sub = 3"
   ]
  },
  {
   "cell_type": "code",
   "execution_count": 39,
   "id": "50d3c943",
   "metadata": {},
   "outputs": [],
   "source": [
    "#Defining a function to generate timestamps for subclips\n",
    "#Takes into account minute and seconds\n",
    "#\n",
    "#def timestamp_gen(start, increment):\n",
    "#    \"\"\"\n",
    "#    start - start time tuple (hours, min, seconds)\n",
    "#    increment - in seconds\n",
    "#    \"\"\"\n",
    "#    \n",
    "#    #Setting stop tuple to be same as start\n",
    "#    stop = start\n",
    "#    \n",
    "#    #Converting to a list to increment as tuple is immutable\n",
    "#    temp_list = list(stop)\n",
    "#    \n",
    "#    #Adding length of post clip animation duration to the end of the main clip\n",
    "#    new_min = temp_list[2] + increment\n",
    "#    \n",
    "#    #Updating the list based on whether the incremented minute\n",
    "#    #is greater than or less than 60min as the hour has to be \n",
    "#    #accounted for.\n",
    "#    if new_min < 60:\n",
    "#        temp_list[2] = new_min\n",
    "#    elif new_min > 60:\n",
    "#        temp_list[1] += 1\n",
    "#        temp_list[2] = new_min-60\n",
    "#        \n",
    "#    #Converting list back to tuple\n",
    "#    stop = tuple(temp_list)\n",
    "#    \n",
    "#    return stop"
   ]
  },
  {
   "cell_type": "code",
   "execution_count": 40,
   "id": "28e3e372",
   "metadata": {},
   "outputs": [],
   "source": [
    "##Defining a function to blur a frame\n",
    "#def blur(image):\n",
    "#    \n",
    "#    \"\"\"\n",
    "#    Returns a blurred image using gaussian filter\n",
    "#    with radius 2\n",
    "#    \"\"\"\n",
    "#    \n",
    "#    return gaussian(image.astype(float), sigma=7)"
   ]
  },
  {
   "cell_type": "code",
   "execution_count": 41,
   "id": "5d15318b",
   "metadata": {},
   "outputs": [],
   "source": [
    "##Computing time steps for the complete clip\n",
    "#post_clip_start = t_sub_end\n",
    "#post_clip_end = timestamp_gen(post_clip_start, post_clip_duration)"
   ]
  },
  {
   "cell_type": "code",
   "execution_count": 42,
   "id": "ec05631b",
   "metadata": {},
   "outputs": [],
   "source": [
    "##Extracting the subclip\n",
    "#post_clip = VideoFileClip('/home/rohit/Videos/sasha_clips/gi_e2.mp4').subclip(post_clip_start, post_clip_end)"
   ]
  },
  {
   "cell_type": "code",
   "execution_count": 43,
   "id": "c08f173c",
   "metadata": {},
   "outputs": [],
   "source": [
    "##Muting audio in post clip\n",
    "#post_clip_mute = post_clip.volumex(0)"
   ]
  },
  {
   "cell_type": "code",
   "execution_count": 44,
   "id": "f9512872",
   "metadata": {},
   "outputs": [],
   "source": [
    "##Cropping to instagram size\n",
    "#crop_clip = crop(post_clip_mute, width=h, height=h, x_center=0.5*w, y_center=0.5*h)"
   ]
  },
  {
   "cell_type": "code",
   "execution_count": 45,
   "id": "7f667d23",
   "metadata": {},
   "outputs": [],
   "source": [
    "#Computing timestamps for the 3 subclips\n",
    "#pc_t = {}\n",
    "#pc_t['1_start'] = (0,0,0.0)\n",
    "#\n",
    "#sub_increment = post_clip_duration/num_sub \n",
    "#\n",
    "#for i in range(1, num_sub+1):\n",
    "#    \n",
    "#    #Computing and saving the end timestamp\n",
    "#    pc_t[str(i)+'_end'] = timestamp_gen(pc_t[str(i)+'_start'], sub_increment)\n",
    "#    \n",
    "#    #Setting the beginning the next subclip as the end of first one\n",
    "#    if i <=3:\n",
    "#        pc_t[str(i+1)+'_start'] = pc_t[str(i)+'_end']"
   ]
  },
  {
   "cell_type": "code",
   "execution_count": 46,
   "id": "e59bdfa3",
   "metadata": {},
   "outputs": [],
   "source": [
    "#Creating subclips from post-clip and applying blur\n",
    "#pc = {}\n",
    "#\n",
    "#for i in range(1, num_sub+1):\n",
    "#    print('generating subclip {}'.format(i))\n",
    "#    pc[i] = crop_clip.subclip(pc_t[str(i)+'_start'], pc_t[str(i)+'_end'])\n",
    "#    pc[i] = pc[i].fl_image(blur)"
   ]
  },
  {
   "cell_type": "code",
   "execution_count": 47,
   "id": "5212ce78",
   "metadata": {},
   "outputs": [],
   "source": [
    "##Adding logo\n",
    "#sub_clip_logo = (ImageClip(\"/home/rohit/Videos/sasha_clips/logos/logo_symbol_only/symbol3.png\")\n",
    "#                 .set_duration(pc[1].duration)\n",
    "#                 .set_pos((-35, -40))\n",
    "#                 .resize(0.25))\n",
    "#\n",
    "#sub_clip_handle = (TextClip('@sashacobra', font='Ubuntu-SemiBold', fontsize=28, color='white', align='center')\n",
    "#                 .set_position((125, 57))\n",
    "#                 .set_duration(pc[1].duration))\n",
    "#\n",
    "#for i in range(1, num_sub):\n",
    "#    if i==2:\n",
    "#        pc[i] = CompositeVideoClip([pc[i], sub_clip_logo.crossfadeout(0.1*pc[i].duration), \n",
    "#                                   sub_clip_handle.crossfadeout(0.1*pc[i].duration)])\n",
    "#    else:\n",
    "#        pc[i] = CompositeVideoClip([pc[i], sub_clip_logo, sub_clip_handle])"
   ]
  },
  {
   "cell_type": "code",
   "execution_count": 48,
   "id": "1f67e14b",
   "metadata": {},
   "outputs": [],
   "source": [
    "##Defining text clips\n",
    "#getting_intimate = (TextClip('GETTING INTIMATE', font='Montserrat-SemiBold', fontsize=85, color='white',\n",
    "#                            align='center', kerning=10)\n",
    "#                    .set_position('center', 'center')\n",
    "#                    .set_duration(pc[1].duration)\n",
    "#                    .crossfadein(0.3*pc[1].duration)\n",
    "#                    .crossfadeout(0.1*pc[1].duration))\n",
    "#\n",
    "#with_sc = (TextClip('WITH SASHA COBRA', font='Montserrat-SemiBold', fontsize=30, color='white', align='center')\n",
    "#                    .set_position((0.652, 0.55), relative=True)\n",
    "#                    .set_start(0.4*pc[1].duration)\n",
    "#                    .set_duration(0.6*pc[1].duration)\n",
    "#                    .crossfadein(0.3*pc[1].duration)\n",
    "#                    .crossfadeout(0.1*pc[1].duration))\n",
    "#\n",
    "#watch_fv = (TextClip('Watch full video series', font='Montserrat-SemiBold', \n",
    "#                    fontsize=40, color='white', align='center')\n",
    "#                    .set_position(('center', 'center'))\n",
    "#                    .set_duration(pc[2].duration)\n",
    "#                    .crossfadein(0.3*pc[2].duration)\n",
    "#                    .crossfadeout(0.1*pc[2].duration))\n",
    "#\n",
    "#at_sc = (TextClip('at sashacobra.com', font='Montserrat-SemiBold',\n",
    "#                  fontsize=40, color='white', align='center')\n",
    "#                  .set_position(('center', 0.6), relative=True)\n",
    "#                  .set_duration(pc[2].duration)\n",
    "#                  .crossfadein(0.3*pc[2].duration)\n",
    "#                  .crossfadeout(0.1*pc[2].duration))"
   ]
  },
  {
   "cell_type": "code",
   "execution_count": 49,
   "id": "e0f227eb",
   "metadata": {},
   "outputs": [],
   "source": [
    "##Defining final logo image clip\n",
    "#final_logo = (ImageClip(\"/home/rohit/Videos/sasha_clips/logos/logo_name/logo_name_21.png\")\n",
    "#              .set_duration(pc[3].duration)\n",
    "#              .set_pos((\"center\", \"center\"))\n",
    "#              .resize(0.65)\n",
    "#              .crossfadein(0.3*pc[3].duration)\n",
    "#              .crossfadeout(0.1*pc[3].duration)) "
   ]
  },
  {
   "cell_type": "code",
   "execution_count": 50,
   "id": "01d4d9fe",
   "metadata": {},
   "outputs": [],
   "source": [
    "##Adding text to first subclip\n",
    "#test1 = CompositeVideoClip([pc[1], getting_intimate, with_sc])\n",
    "#test2 = CompositeVideoClip([pc[2], watch_fv, at_sc])\n",
    "#test3 = CompositeVideoClip([pc[3], final_logo])\n",
    "#test = concatenate_videoclips([test1, test2, test3])\n",
    "#\n",
    "#test2.ipython_display(width=640, t=1, verbose=False)\n",
    "##test2.save_frame('/home/rohit/Downloads/wfv_after.png', t=1)"
   ]
  },
  {
   "cell_type": "code",
   "execution_count": 51,
   "id": "2b8b7ef1",
   "metadata": {},
   "outputs": [],
   "source": [
    "##Setting the audio of the post clip animation from the first part of original video\n",
    "##And fading the audio out in last few moments\n",
    "#intro_clip = VideoFileClip(video_file_path).subclip((0,0,0.0), (0,0,post_clip_duration))\n",
    "#post_ani_final_clip = test.set_audio(intro_clip.audio)\n",
    "#post_ani_final_clip = post_ani_final_clip.audio_fadein(0.3*post_ani_final_clip.duration)\n",
    "#post_ani_final_clip = post_ani_final_clip.audio_fadeout(0.3*post_ani_final_clip.duration)"
   ]
  },
  {
   "cell_type": "code",
   "execution_count": 52,
   "id": "47b0165c",
   "metadata": {},
   "outputs": [],
   "source": [
    "#Writing audio_file\n",
    "#intro_audio = intro_clip.audio\n",
    "#intro_audio.write_audiofile(\"/home/rohit/Videos/sasha_clips/intro_audio.wav\", 44100, 2, 2000,\"pcm_s32le\")"
   ]
  },
  {
   "cell_type": "code",
   "execution_count": 53,
   "id": "951b58cd",
   "metadata": {},
   "outputs": [],
   "source": [
    "#post_ani_final_clip.write_videofile('/home/rohit/Videos/sasha_clips/post_clip_ani.mp4', logger=None)"
   ]
  },
  {
   "cell_type": "code",
   "execution_count": 54,
   "id": "3748e48f",
   "metadata": {},
   "outputs": [],
   "source": [
    "#final_export = concatenate_videoclips([main_clip, post_ani_final_clip])\n",
    "#final_export.write_videofile('/home/rohit/Videos/sasha_clips/men_purge.mp4', logger=None)"
   ]
  }
 ],
 "metadata": {
  "kernelspec": {
   "display_name": "Python 3 (ipykernel)",
   "language": "python",
   "name": "python3"
  },
  "language_info": {
   "codemirror_mode": {
    "name": "ipython",
    "version": 3
   },
   "file_extension": ".py",
   "mimetype": "text/x-python",
   "name": "python",
   "nbconvert_exporter": "python",
   "pygments_lexer": "ipython3",
   "version": "3.9.12"
  }
 },
 "nbformat": 4,
 "nbformat_minor": 5
}
